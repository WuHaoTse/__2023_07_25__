{
 "cells": [
  {
   "cell_type": "code",
   "execution_count": 7,
   "metadata": {},
   "outputs": [],
   "source": [
    "import random\n",
    "def get_score() -> list:\n",
    "    score = []\n",
    "    for i in range(5):\n",
    "        score.append(random.randint(50, 100))\n",
    "    return score\n",
    "\n",
    "def get_names(nums:int) -> list:\n",
    "    with open('names.txt',encoding='utf-8',newline='') as file:\n",
    "        names_str = file.read()\n",
    "        all_names_list = names_str.split(sep=\"\\n\")\n",
    "        names_list = random.choices(all_names_list,k=nums) #取出一定數量的姓名\n",
    "    return names_list"
   ]
  },
  {
   "cell_type": "code",
   "execution_count": 8,
   "metadata": {},
   "outputs": [
    {
     "data": {
      "text/plain": [
       "[['陳筱涵', 77, 84, 85, 65, 89],\n",
       " ['林希啟', 72, 63, 71, 76, 96],\n",
       " ['洪奎夫', 93, 100, 52, 99, 68],\n",
       " ['馮耀中', 95, 79, 66, 53, 79],\n",
       " ['黃婷婷', 87, 71, 54, 92, 92],\n",
       " ['陳倩妮', 81, 75, 69, 81, 93],\n",
       " ['陳凱翔', 80, 89, 78, 99, 84],\n",
       " ['許芳如', 82, 50, 52, 94, 67],\n",
       " ['陳筱涵', 97, 91, 65, 75, 50],\n",
       " ['胡芳瑜', 54, 77, 87, 63, 77],\n",
       " ['鄭孟芳', 80, 54, 79, 72, 65],\n",
       " ['李佳彥', 94, 50, 85, 62, 65],\n",
       " ['陳志偉', 59, 87, 69, 100, 70],\n",
       " ['郭舜昇', 52, 77, 67, 93, 74],\n",
       " ['劉依婷', 89, 92, 99, 76, 94],\n",
       " ['王雅慧', 61, 57, 96, 52, 90],\n",
       " ['李政白', 79, 73, 80, 63, 74],\n",
       " ['林昱芳', 62, 60, 86, 52, 71],\n",
       " ['黃奎紹', 73, 96, 64, 81, 65],\n",
       " ['謝南慧', 52, 97, 81, 75, 55],\n",
       " ['蔡至剛', 99, 59, 87, 95, 54],\n",
       " ['陳怡容', 74, 89, 56, 93, 51],\n",
       " ['許芳如', 89, 99, 88, 92, 85],\n",
       " ['梁柏宇', 83, 90, 59, 74, 67],\n",
       " ['鄭憲定', 90, 60, 63, 58, 54],\n",
       " ['張婕妤', 85, 61, 72, 66, 50],\n",
       " ['王雅琴', 62, 92, 79, 96, 71],\n",
       " ['尚偉倫', 72, 76, 53, 92, 51],\n",
       " ['余月修', 82, 86, 91, 98, 53],\n",
       " ['蔡士賢', 51, 62, 82, 89, 70]]"
      ]
     },
     "execution_count": 8,
     "metadata": {},
     "output_type": "execute_result"
    }
   ],
   "source": [
    "nums_int = int(input(\"請輸入學生數:\"))\n",
    "#取得nums_int個姓名\n",
    "names_list = get_names(nums_int)\n",
    "students = []\n",
    "for i in range(nums_int):\n",
    "    scores = get_score()\n",
    "    new_list = [names_list[i]] + scores\n",
    "    students.append(new_list)\n",
    "students"
   ]
  },
  {
   "cell_type": "code",
   "execution_count": 10,
   "metadata": {},
   "outputs": [
    {
     "name": "stdout",
     "output_type": "stream",
     "text": [
      "存檔成功\n"
     ]
    }
   ],
   "source": [
    "import csv\n",
    "#將2維list儲存為csv檔\n",
    "fileName = input(\"請輸入檔案名:(csv)\")\n",
    "with open(f'{fileName}.csv',mode='w',encoding='utf-8', newline='') as file:\n",
    "    csv_writer = csv.writer(file)\n",
    "    csv_writer.writerow(['姓名', '國文', '英文', '數學', '地理', '歷史'])\n",
    "    csv_writer.writerows(students)\n",
    "\n",
    "print(\"存檔成功\")"
   ]
  }
 ],
 "metadata": {
  "kernelspec": {
   "display_name": "Python 3",
   "language": "python",
   "name": "python3"
  },
  "language_info": {
   "codemirror_mode": {
    "name": "ipython",
    "version": 3
   },
   "file_extension": ".py",
   "mimetype": "text/x-python",
   "name": "python",
   "nbconvert_exporter": "python",
   "pygments_lexer": "ipython3",
   "version": "3.10.12"
  },
  "orig_nbformat": 4
 },
 "nbformat": 4,
 "nbformat_minor": 2
}
