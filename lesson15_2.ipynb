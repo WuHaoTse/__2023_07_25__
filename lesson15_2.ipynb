{
 "cells": [
  {
   "cell_type": "code",
   "execution_count": 1,
   "metadata": {},
   "outputs": [
    {
     "data": {
      "text/plain": [
       "[3, 7, 11, 15, 19]"
      ]
     },
     "execution_count": 1,
     "metadata": {},
     "output_type": "execute_result"
    }
   ],
   "source": [
    "#建立list\n",
    "a = [1, 3, 5, 7, 9]\n",
    "a * 2\n",
    "\n",
    "b = [2, 4, 6, 8 ,10]\n",
    "a + b\n",
    "\n",
    "result = []\n",
    "for i in range(5):\n",
    "    result.append(a[i] + b[i])\n",
    "\n",
    "result"
   ]
  },
  {
   "cell_type": "code",
   "execution_count": 2,
   "metadata": {},
   "outputs": [
    {
     "data": {
      "text/plain": [
       "array([ 3,  7, 11, 15, 19])"
      ]
     },
     "execution_count": 2,
     "metadata": {},
     "output_type": "execute_result"
    }
   ],
   "source": [
    "import numpy as np\n",
    "\n",
    "#透過list建立ndArray\n",
    "\n",
    "a_array = np.array([1, 3, 5, 7, 9])\n",
    "a_array * 2\n",
    "\n",
    "b_array = np.array([2, 4, 6, 8 ,10])\n",
    "\n",
    "a_array + b_array"
   ]
  },
  {
   "cell_type": "code",
   "execution_count": 3,
   "metadata": {},
   "outputs": [
    {
     "data": {
      "text/plain": [
       "[88, 62, 56, 90, 84]"
      ]
     },
     "execution_count": 3,
     "metadata": {},
     "output_type": "execute_result"
    }
   ],
   "source": [
    "#使用python建立5個亂數元素的list\n",
    "import random\n",
    "\n",
    "#list comprehension\n",
    "[random.randint(50,100) for _ in range(5)]"
   ]
  },
  {
   "cell_type": "code",
   "execution_count": 4,
   "metadata": {},
   "outputs": [
    {
     "data": {
      "text/plain": [
       "array([94, 99, 58, 52, 83])"
      ]
     },
     "execution_count": 4,
     "metadata": {},
     "output_type": "execute_result"
    }
   ],
   "source": [
    "#使用numpy random 建立亂數\n",
    "import numpy as np\n",
    "np.random.randint(50,high=100,size=5)"
   ]
  },
  {
   "cell_type": "code",
   "execution_count": 5,
   "metadata": {},
   "outputs": [
    {
     "data": {
      "text/plain": [
       "array([[91, 57, 52, 84, 50],\n",
       "       [64, 95, 66, 81, 52],\n",
       "       [62, 97, 50, 70, 83],\n",
       "       [91, 55, 76, 56, 90],\n",
       "       [84, 62, 75, 98, 50],\n",
       "       [87, 78, 87, 72, 51],\n",
       "       [55, 67, 95, 84, 71],\n",
       "       [91, 50, 91, 56, 91],\n",
       "       [66, 63, 93, 75, 69],\n",
       "       [88, 59, 54, 55, 75],\n",
       "       [84, 77, 66, 52, 64],\n",
       "       [97, 69, 51, 76, 69],\n",
       "       [91, 91, 89, 94, 86],\n",
       "       [63, 52, 83, 51, 93],\n",
       "       [55, 80, 85, 67, 67],\n",
       "       [69, 58, 63, 69, 90],\n",
       "       [57, 68, 89, 91, 92],\n",
       "       [71, 72, 86, 84, 73],\n",
       "       [75, 66, 73, 74, 73],\n",
       "       [91, 92, 64, 50, 65],\n",
       "       [64, 82, 91, 55, 72],\n",
       "       [71, 72, 76, 57, 50],\n",
       "       [91, 80, 77, 68, 89],\n",
       "       [77, 78, 69, 51, 53],\n",
       "       [57, 87, 84, 99, 51],\n",
       "       [61, 74, 82, 89, 92],\n",
       "       [91, 97, 86, 62, 89],\n",
       "       [96, 82, 63, 84, 53],\n",
       "       [62, 80, 85, 79, 91],\n",
       "       [75, 88, 95, 74, 91],\n",
       "       [93, 78, 71, 67, 83],\n",
       "       [77, 73, 71, 92, 90],\n",
       "       [76, 93, 68, 95, 52],\n",
       "       [69, 67, 94, 84, 68],\n",
       "       [69, 98, 98, 86, 55],\n",
       "       [82, 65, 93, 95, 79],\n",
       "       [78, 59, 90, 52, 59],\n",
       "       [92, 91, 82, 81, 65],\n",
       "       [64, 86, 62, 75, 80],\n",
       "       [50, 65, 67, 74, 60],\n",
       "       [68, 69, 53, 78, 90],\n",
       "       [93, 50, 63, 91, 74],\n",
       "       [53, 82, 57, 87, 54],\n",
       "       [79, 89, 96, 70, 70],\n",
       "       [71, 62, 98, 92, 99],\n",
       "       [62, 90, 53, 73, 65],\n",
       "       [84, 66, 89, 74, 51],\n",
       "       [88, 62, 60, 61, 85],\n",
       "       [88, 81, 77, 79, 77],\n",
       "       [63, 75, 97, 67, 74]])"
      ]
     },
     "execution_count": 5,
     "metadata": {},
     "output_type": "execute_result"
    }
   ],
   "source": [
    "np.random.randint(50,high=100,size=(50, 5))"
   ]
  }
 ],
 "metadata": {
  "kernelspec": {
   "display_name": "Python 3",
   "language": "python",
   "name": "python3"
  },
  "language_info": {
   "codemirror_mode": {
    "name": "ipython",
    "version": 3
   },
   "file_extension": ".py",
   "mimetype": "text/x-python",
   "name": "python",
   "nbconvert_exporter": "python",
   "pygments_lexer": "ipython3",
   "version": "3.10.12"
  },
  "orig_nbformat": 4
 },
 "nbformat": 4,
 "nbformat_minor": 2
}
