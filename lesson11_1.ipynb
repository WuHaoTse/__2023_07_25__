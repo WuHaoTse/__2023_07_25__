{
 "cells": [
  {
   "cell_type": "code",
   "execution_count": 3,
   "metadata": {},
   "outputs": [
    {
     "data": {
      "text/plain": [
       "[[59, 96, 54, 95, 90],\n",
       " [86, 78, 85, 57, 80],\n",
       " [88, 90, 77, 69, 91],\n",
       " [88, 50, 73, 75, 59],\n",
       " [54, 81, 87, 53, 62],\n",
       " [73, 54, 53, 63, 89],\n",
       " [51, 52, 71, 51, 89],\n",
       " [100, 92, 60, 68, 66],\n",
       " [91, 63, 99, 68, 80],\n",
       " [81, 83, 82, 70, 77],\n",
       " [58, 87, 57, 61, 59],\n",
       " [84, 52, 56, 89, 91],\n",
       " [99, 87, 84, 50, 70],\n",
       " [67, 70, 65, 64, 89],\n",
       " [51, 66, 62, 69, 73],\n",
       " [81, 77, 97, 51, 55],\n",
       " [81, 69, 52, 91, 56],\n",
       " [76, 94, 85, 64, 96],\n",
       " [54, 71, 87, 96, 51],\n",
       " [100, 82, 67, 54, 62],\n",
       " [73, 70, 63, 95, 50],\n",
       " [58, 75, 70, 52, 87],\n",
       " [56, 70, 68, 58, 70],\n",
       " [57, 79, 58, 55, 65],\n",
       " [65, 50, 79, 50, 59],\n",
       " [53, 57, 76, 70, 100],\n",
       " [54, 56, 61, 52, 82],\n",
       " [83, 88, 81, 97, 64],\n",
       " [76, 73, 61, 90, 84],\n",
       " [57, 87, 92, 86, 74]]"
      ]
     },
     "execution_count": 3,
     "metadata": {},
     "output_type": "execute_result"
    }
   ],
   "source": [
    "import random\n",
    "def get_score() -> list:\n",
    "    score = []\n",
    "    for i in range(5):\n",
    "        score.append(random.randint(50, 100))\n",
    "    return score\n",
    "\n",
    "nums = int(input(\"請輸入學生數:\"))\n",
    "students = []\n",
    "for _ in range(nums):\n",
    "    scores = get_score()\n",
    "    students.append(scores)\n",
    "students"
   ]
  }
 ],
 "metadata": {
  "kernelspec": {
   "display_name": "Python 3",
   "language": "python",
   "name": "python3"
  },
  "language_info": {
   "codemirror_mode": {
    "name": "ipython",
    "version": 3
   },
   "file_extension": ".py",
   "mimetype": "text/x-python",
   "name": "python",
   "nbconvert_exporter": "python",
   "pygments_lexer": "ipython3",
   "version": "3.10.12"
  },
  "orig_nbformat": 4
 },
 "nbformat": 4,
 "nbformat_minor": 2
}
