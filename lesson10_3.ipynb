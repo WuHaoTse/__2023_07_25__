{
 "cells": [
  {
   "cell_type": "code",
   "execution_count": 1,
   "metadata": {},
   "outputs": [
    {
     "data": {
      "text/plain": [
       "([79, 92, 68, 75, 65], [78, 95, 68, 72, 65], [72, 91, 69, 71, 62])"
      ]
     },
     "execution_count": 1,
     "metadata": {},
     "output_type": "execute_result"
    }
   ],
   "source": [
    "#2維list\n",
    "students = [[79, 92, 68, 75, 65],\n",
    "            [78, 95, 68, 72, 65],\n",
    "            [72, 91, 69, 71, 62]]\n",
    "students[0] , students[1], students[2]"
   ]
  },
  {
   "cell_type": "code",
   "execution_count": 2,
   "metadata": {},
   "outputs": [
    {
     "name": "stdout",
     "output_type": "stream",
     "text": [
      "[79, 92, 68, 75, 65]\n",
      "[78, 95, 68, 72, 65]\n",
      "[72, 91, 69, 71, 62]\n"
     ]
    }
   ],
   "source": [
    "for student in students:\n",
    "    print(student)"
   ]
  },
  {
   "cell_type": "code",
   "execution_count": 4,
   "metadata": {},
   "outputs": [
    {
     "data": {
      "text/plain": [
       "[[60, 55, 90, 86, 50],\n",
       " [79, 97, 69, 84, 63],\n",
       " [88, 83, 74, 88, 58],\n",
       " [62, 94, 62, 61, 93],\n",
       " [72, 67, 91, 71, 89],\n",
       " [87, 69, 76, 97, 77],\n",
       " [96, 96, 89, 90, 62],\n",
       " [71, 76, 90, 77, 60],\n",
       " [89, 100, 73, 74, 82],\n",
       " [71, 50, 66, 98, 57],\n",
       " [95, 72, 64, 78, 57],\n",
       " [79, 56, 99, 61, 60],\n",
       " [66, 99, 86, 95, 51],\n",
       " [74, 76, 63, 73, 63],\n",
       " [66, 60, 87, 85, 84],\n",
       " [77, 81, 57, 66, 54],\n",
       " [64, 57, 62, 98, 87],\n",
       " [73, 58, 67, 99, 60],\n",
       " [52, 70, 73, 84, 61],\n",
       " [87, 77, 95, 92, 65],\n",
       " [58, 61, 56, 100, 59],\n",
       " [59, 61, 68, 88, 51],\n",
       " [50, 83, 69, 60, 81],\n",
       " [52, 100, 63, 83, 95],\n",
       " [93, 72, 63, 79, 66],\n",
       " [57, 70, 92, 54, 86],\n",
       " [51, 52, 56, 93, 97],\n",
       " [60, 56, 77, 53, 74],\n",
       " [91, 95, 66, 85, 66],\n",
       " [56, 50, 89, 95, 84],\n",
       " [74, 70, 56, 90, 82],\n",
       " [60, 53, 94, 51, 55],\n",
       " [78, 78, 92, 81, 78],\n",
       " [62, 57, 70, 89, 95],\n",
       " [95, 90, 97, 66, 78],\n",
       " [56, 53, 87, 56, 53],\n",
       " [87, 97, 55, 56, 100],\n",
       " [60, 99, 71, 77, 82],\n",
       " [97, 66, 66, 91, 82],\n",
       " [85, 98, 94, 72, 63],\n",
       " [82, 58, 51, 50, 56],\n",
       " [59, 51, 96, 85, 84],\n",
       " [73, 99, 50, 73, 54],\n",
       " [82, 100, 82, 87, 88],\n",
       " [80, 88, 68, 70, 64],\n",
       " [89, 67, 69, 62, 93],\n",
       " [56, 96, 76, 100, 78],\n",
       " [98, 74, 59, 97, 56],\n",
       " [92, 66, 50, 83, 83],\n",
       " [51, 50, 64, 68, 66]]"
      ]
     },
     "execution_count": 4,
     "metadata": {},
     "output_type": "execute_result"
    }
   ],
   "source": [
    "import random\n",
    "def get_score() -> list:\n",
    "    score = []\n",
    "    for i in range(5):\n",
    "        score.append(random.randint(50, 100))\n",
    "    return score\n",
    "\n",
    "students = []\n",
    "for i in range(50):\n",
    "    scores = get_score()\n",
    "    students.append(scores)\n",
    "students"
   ]
  }
 ],
 "metadata": {
  "kernelspec": {
   "display_name": "Python 3",
   "language": "python",
   "name": "python3"
  },
  "language_info": {
   "codemirror_mode": {
    "name": "ipython",
    "version": 3
   },
   "file_extension": ".py",
   "mimetype": "text/x-python",
   "name": "python",
   "nbconvert_exporter": "python",
   "pygments_lexer": "ipython3",
   "version": "3.10.12"
  },
  "orig_nbformat": 4
 },
 "nbformat": 4,
 "nbformat_minor": 2
}
