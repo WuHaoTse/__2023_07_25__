{
 "cells": [
  {
   "cell_type": "code",
   "execution_count": 1,
   "metadata": {},
   "outputs": [
    {
     "data": {
      "text/plain": [
       "0    59\n",
       "1    63\n",
       "2    69\n",
       "3    95\n",
       "4    85\n",
       "5    74\n",
       "6    90\n",
       "7    54\n",
       "8    83\n",
       "9    61\n",
       "Name: 國文, dtype: int64"
      ]
     },
     "execution_count": 1,
     "metadata": {},
     "output_type": "execute_result"
    }
   ],
   "source": [
    "import pandas as pd\n",
    "df = pd.read_csv('學生成績.csv')\n",
    "\n",
    "#使用subscript搜尋Series value\n",
    "chinese_s = df[\"國文\"]\n",
    "chinese_s"
   ]
  },
  {
   "cell_type": "code",
   "execution_count": 2,
   "metadata": {},
   "outputs": [
    {
     "data": {
      "text/plain": [
       "1    63\n",
       "2    69\n",
       "3    95\n",
       "4    85\n",
       "5    74\n",
       "6    90\n",
       "8    83\n",
       "9    61\n",
       "Name: 國文, dtype: int64"
      ]
     },
     "execution_count": 2,
     "metadata": {},
     "output_type": "execute_result"
    }
   ],
   "source": [
    "#國文及格的\n",
    "chinese_s[chinese_s >= 60]"
   ]
  },
  {
   "cell_type": "code",
   "execution_count": 3,
   "metadata": {},
   "outputs": [
    {
     "data": {
      "text/plain": [
       "3    53\n",
       "9    50\n",
       "Name: 數學, dtype: int64"
      ]
     },
     "execution_count": 3,
     "metadata": {},
     "output_type": "execute_result"
    }
   ],
   "source": [
    "#數學及格的\n",
    "math_s = df[\"數學\"]\n",
    "math_s[math_s < 60]"
   ]
  }
 ],
 "metadata": {
  "kernelspec": {
   "display_name": "Python 3",
   "language": "python",
   "name": "python3"
  },
  "language_info": {
   "codemirror_mode": {
    "name": "ipython",
    "version": 3
   },
   "file_extension": ".py",
   "mimetype": "text/x-python",
   "name": "python",
   "nbconvert_exporter": "python",
   "pygments_lexer": "ipython3",
   "version": "3.10.12"
  },
  "orig_nbformat": 4
 },
 "nbformat": 4,
 "nbformat_minor": 2
}
